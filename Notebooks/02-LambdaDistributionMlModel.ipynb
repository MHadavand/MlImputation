{
 "cells": [
  {
   "cell_type": "code",
   "execution_count": null,
   "metadata": {
    "ExecuteTime": {
     "end_time": "2022-10-30T04:17:02.022260Z",
     "start_time": "2022-10-30T04:16:58.924261Z"
    }
   },
   "outputs": [],
   "source": [
    "import tensorflow as tf\n",
    "from tensorflow import keras\n",
    "from tensorflow.keras.models import Sequential\n",
    "from tensorflow.keras.layers import Dense, Flatten, Dropout\n",
    "from tensorflow.keras.callbacks import LambdaCallback, ReduceLROnPlateau\n",
    "from tensorflow.keras.optimizers import Adam, Nadam\n",
    "\n",
    "import rmsp\n",
    "import sys\n",
    "import os\n",
    "import pandas as pd\n",
    "import warnings\n",
    "warnings.filterwarnings(\"ignore\")\n",
    "from matplotlib import pyplot as plt\n",
    "import numpy as np\n",
    "import math\n",
    "import shutil\n",
    "import copy\n",
    "import pygeostat as gs\n",
    "from tqdm.notebook import trange\n",
    "tf.__version__\n",
    "\n",
    "%load_ext autoreload\n",
    "%autoreload 2"
   ]
  },
  {
   "cell_type": "code",
   "execution_count": null,
   "metadata": {
    "ExecuteTime": {
     "end_time": "2022-10-30T04:17:02.917930Z",
     "start_time": "2022-10-30T04:17:02.023260Z"
    }
   },
   "outputs": [],
   "source": [
    "rmsp.activate()"
   ]
  },
  {
   "cell_type": "code",
   "execution_count": null,
   "metadata": {
    "ExecuteTime": {
     "end_time": "2022-10-30T04:17:03.119436Z",
     "start_time": "2022-10-30T04:17:02.919431Z"
    }
   },
   "outputs": [],
   "source": [
    "sys.path.insert(0, os.path.abspath('../Tools'))\n",
    "from file_export import PickleExporter, FigureExporter"
   ]
  },
  {
   "cell_type": "code",
   "execution_count": null,
   "metadata": {
    "ExecuteTime": {
     "end_time": "2022-10-30T04:17:03.366725Z",
     "start_time": "2022-10-30T04:17:03.120931Z"
    }
   },
   "outputs": [],
   "source": [
    "from lambda_distribution import *\n",
    "from utility import get_lambdas_keras"
   ]
  },
  {
   "cell_type": "markdown",
   "metadata": {},
   "source": [
    "# Introduction\n",
    "\n",
    "This notebook contains a workflow to implement data imputation for North West Territories data set. RMSP is used instead of pygeostat where applicable to simplify the code and improve the performance.\n",
    "\n",
    "Note: The tensorflow version should be 2.0 or newer. \n"
   ]
  },
  {
   "cell_type": "markdown",
   "metadata": {},
   "source": [
    "# Settings"
   ]
  },
  {
   "cell_type": "code",
   "execution_count": null,
   "metadata": {
    "ExecuteTime": {
     "end_time": "2022-10-30T04:17:03.521753Z",
     "start_time": "2022-10-30T04:17:03.367726Z"
    }
   },
   "outputs": [],
   "source": [
    "outdir = 'Output/LambdaDistributionMl/'\n",
    "gs.mkdir(outdir)"
   ]
  },
  {
   "cell_type": "code",
   "execution_count": null,
   "metadata": {
    "ExecuteTime": {
     "end_time": "2022-10-30T04:17:03.676725Z",
     "start_time": "2022-10-30T04:17:03.522725Z"
    }
   },
   "outputs": [],
   "source": [
    "pickle_data = PickleExporter(outdir)\n",
    "save_figure = FigureExporter(outdir)\n",
    "save_figure_paper = FigureExporter(\n",
    "    \"../../JournalPapers/ImputationUsingLambdaDistAndMl/Latex/elsarticle-template/Figures\"\n",
    ")"
   ]
  },
  {
   "cell_type": "code",
   "execution_count": null,
   "metadata": {
    "ExecuteTime": {
     "end_time": "2022-10-30T04:17:07.965755Z",
     "start_time": "2022-10-30T04:17:03.677726Z"
    }
   },
   "outputs": [],
   "source": [
    "import wandb\n",
    "from wandb.keras import WandbCallback\n",
    "\n",
    "wandb.init(\n",
    "    project=\"LambdaDistribution\",\n",
    "    entity=\"mosi\",\n",
    "    group=\"ClassIa\",\n",
    "    tags=[\"Characterization\"],\n",
    ")\n",
    "\n",
    "config = wandb.config"
   ]
  },
  {
   "cell_type": "markdown",
   "metadata": {},
   "source": [
    "# Using MLP to fit Lambda distribution\n",
    "\n",
    "For lambda distribution finding the shape parameters i.e. $\\lambda_3$ and $\\lambda_4$ given the skewness and kurtosis is very difficult. In this notebook, an MLP model is designed to provide a mapping model between the empirical (skewness, kurtosis) and the shape parameters for a specific class of lambda distributions"
   ]
  },
  {
   "cell_type": "code",
   "execution_count": null,
   "metadata": {
    "ExecuteTime": {
     "end_time": "2022-10-30T04:17:08.151661Z",
     "start_time": "2022-10-30T04:17:07.968160Z"
    }
   },
   "outputs": [],
   "source": [
    "from keras_visualizer import visualizer "
   ]
  },
  {
   "cell_type": "markdown",
   "metadata": {},
   "source": [
    "## Configurations (wandb)"
   ]
  },
  {
   "cell_type": "code",
   "execution_count": null,
   "metadata": {
    "ExecuteTime": {
     "end_time": "2022-10-30T04:17:08.337660Z",
     "start_time": "2022-10-30T04:17:08.153661Z"
    }
   },
   "outputs": [],
   "source": [
    "config.learning_rate = 0.001\n",
    "config.loss = 'mse'\n",
    "\n",
    "config.early_stop_min_delta = 0.0001\n",
    "config.early_stop_monitor = 'loss'\n",
    "config.early_stop_patience = 300\n",
    "\n",
    "config.lr_plan_monitor = 'loss'\n",
    "config.lr_plan_factor = 0.1\n",
    "config.lr_plan_patience = 100\n",
    "config.lr_plan_min_delta=0.0001\n",
    "\n",
    "config.activation ='sigmoid'\n",
    "config.epochs = 1000\n",
    "config.batchsize = 3000"
   ]
  },
  {
   "cell_type": "markdown",
   "metadata": {},
   "source": [
    "## Call backs"
   ]
  },
  {
   "cell_type": "code",
   "execution_count": null,
   "metadata": {
    "ExecuteTime": {
     "end_time": "2022-10-30T04:17:08.523661Z",
     "start_time": "2022-10-30T04:17:08.338660Z"
    }
   },
   "outputs": [],
   "source": [
    "# early stop\n",
    "early_stop_clbk = tf.keras.callbacks.EarlyStopping(monitor=config.early_stop_monitor,\n",
    "                                                   min_delta=config.early_stop_min_delta,\n",
    "                                                   patience=config.early_stop_patience,\n",
    "                                                   verbose=0, \n",
    "                                                   mode='auto',\n",
    "                                                   restore_best_weights=True)\n",
    "\n",
    "# learning rate regime\n",
    "lr_plan = ReduceLROnPlateau(monitor=config.lr_plan_monitor,\n",
    "                            factor=config.lr_plan_factor,\n",
    "                            patience=config.lr_plan_patience,\n",
    "                            verbose=0,\n",
    "                            mode='auto',\n",
    "                            min_delta=config.lr_plan_min_delta)"
   ]
  },
  {
   "cell_type": "markdown",
   "metadata": {},
   "source": [
    "## Choosing Lambda Class"
   ]
  },
  {
   "cell_type": "code",
   "execution_count": null,
   "metadata": {
    "ExecuteTime": {
     "end_time": "2022-10-30T04:17:12.569159Z",
     "start_time": "2022-10-30T04:17:08.525161Z"
    }
   },
   "outputs": [],
   "source": [
    "n_mesh_lambda = 350\n",
    "class_name = 'Ia'\n",
    " \n",
    "sample_generator = SampleLambdaMoments(n_mesh=n_mesh_lambda)\n",
    "data_lambda = sample_generator.get_sample(class_name=class_name)\n",
    "data_lambda.head()"
   ]
  },
  {
   "cell_type": "code",
   "execution_count": null,
   "metadata": {
    "ExecuteTime": {
     "end_time": "2022-10-30T04:17:12.755160Z",
     "start_time": "2022-10-30T04:17:12.570660Z"
    }
   },
   "outputs": [],
   "source": [
    "# n_mesh_lambda = 350\n",
    "# class_name = 'Ib'\n",
    "# sample_generator = SampleLambdaMoments(n_mesh=n_mesh_lambda)\n",
    "# data_lambda_1b = sample_generator.get_sample(class_name=class_name)\n",
    "\n",
    "\n",
    "# n_mesh_lambda = 350\n",
    "# class_name = 'Ic'\n",
    "# sample_generator = SampleLambdaMoments(n_mesh=n_mesh_lambda)\n",
    "# data_lambda_1c = sample_generator.get_sample(class_name=class_name)\n",
    "\n",
    "# data_lambda = pd.concat([data_lambda, data_lambda_1b, data_lambda_1c], ignore_index=True)\n",
    "# data_lambda.head()"
   ]
  },
  {
   "cell_type": "markdown",
   "metadata": {},
   "source": [
    "## Features ans lables"
   ]
  },
  {
   "cell_type": "code",
   "execution_count": null,
   "metadata": {
    "ExecuteTime": {
     "end_time": "2022-10-30T04:17:12.941160Z",
     "start_time": "2022-10-30T04:17:12.756160Z"
    }
   },
   "outputs": [],
   "source": [
    "features = ['Skewness','Kurtosis']\n",
    "n_features = len(features)\n",
    "\n",
    "labels = ['Lambda3', 'Lambda4']\n",
    "n_labels = len(labels)\n",
    "\n",
    "trainX = data_lambda[features]\n",
    "trainY= data_lambda[labels]\n",
    "\n",
    "# reshaping to correct nump array\n",
    "trainX = trainX.values.reshape(-1,n_features)\n",
    "trainY = trainY.values.reshape(-1,n_labels)"
   ]
  },
  {
   "cell_type": "markdown",
   "metadata": {},
   "source": [
    "<h2 style='color:#5177F9;'>\n",
    "KDE for scatter plot of features and labels\n",
    "</h2>"
   ]
  },
  {
   "cell_type": "code",
   "execution_count": null,
   "metadata": {
    "ExecuteTime": {
     "end_time": "2022-10-30T04:17:24.101310Z",
     "start_time": "2022-10-30T04:17:12.942160Z"
    }
   },
   "outputs": [],
   "source": [
    "fig, axes = plt.subplots(1, 2, figsize=(12, 5))\n",
    "\n",
    "data_lambda_polt = data_lambda.sample(frac=0.2)\n",
    "\n",
    "gs.scatter_plot(\n",
    "    data_lambda_polt[\"Skewness\"], data_lambda_polt[\"Kurtosis\"], ax=axes[0], stat_blk=False\n",
    ")\n",
    "gs.scatter_plot(\n",
    "    data_lambda_polt[\"Lambda3\"], data_lambda_polt[\"Lambda4\"], ax=axes[1], stat_blk=False\n",
    ")"
   ]
  },
  {
   "cell_type": "markdown",
   "metadata": {},
   "source": [
    "## Design the model"
   ]
  },
  {
   "cell_type": "code",
   "execution_count": null,
   "metadata": {
    "ExecuteTime": {
     "end_time": "2022-10-30T04:17:24.333778Z",
     "start_time": "2022-10-30T04:17:24.102279Z"
    }
   },
   "outputs": [],
   "source": [
    "model = Sequential(name=f'MlpForLambda_{class_name}')\n",
    "\n",
    "model.add(Dense(128, input_shape=(n_features,), activation=config.activation,name='Dense1')) \n",
    "\n",
    "model.add(Dense(64, activation=config.activation,name='Dense2')) \n",
    "\n",
    "model.add(Dense(16, activation=config.activation,name='Dense3')) \n",
    "\n",
    "model.add(Dense(n_labels, activation=\"linear\", name='Output'))\n",
    "\n",
    "model.compile(loss=config.loss, optimizer=Adam(learning_rate=config.learning_rate), )\n",
    "\n",
    "model.summary()"
   ]
  },
  {
   "cell_type": "markdown",
   "metadata": {},
   "source": [
    "## Model Visualization"
   ]
  },
  {
   "cell_type": "code",
   "execution_count": null,
   "metadata": {
    "ExecuteTime": {
     "end_time": "2022-10-30T04:17:24.829779Z",
     "start_time": "2022-10-30T04:17:24.335279Z"
    }
   },
   "outputs": [],
   "source": [
    "import IPython\n",
    "visualizer(model, format='png', filename=outdir+'model')\n",
    "IPython.display.Image (outdir+'model.png')"
   ]
  },
  {
   "cell_type": "markdown",
   "metadata": {},
   "source": [
    "## Train the model"
   ]
  },
  {
   "cell_type": "code",
   "execution_count": null,
   "metadata": {
    "ExecuteTime": {
     "end_time": "2022-10-30T04:17:58.340780Z",
     "start_time": "2022-10-30T04:17:24.830778Z"
    }
   },
   "outputs": [],
   "source": [
    "history = model.fit(trainX, trainY, epochs=config.epochs, \n",
    "                    batch_size=config.batchsize,  \n",
    "                    callbacks=[early_stop_clbk, lr_plan, WandbCallback()], verbose=0)"
   ]
  },
  {
   "cell_type": "markdown",
   "metadata": {},
   "source": [
    "## Performance check"
   ]
  },
  {
   "cell_type": "markdown",
   "metadata": {},
   "source": [
    "### Scatter plots for each label"
   ]
  },
  {
   "cell_type": "code",
   "execution_count": null,
   "metadata": {
    "ExecuteTime": {
     "end_time": "2022-10-30T04:18:00.989899Z",
     "start_time": "2022-10-30T04:17:58.341779Z"
    },
    "scrolled": true
   },
   "outputs": [],
   "source": [
    "fig, main_ax = plt.subplots(1,3, figsize= (18,5))\n",
    "\n",
    "ax = main_ax[0]\n",
    "ax.plot(history.history['loss'], label='Loss')\n",
    "ax.set_xlabel('epoch')\n",
    "ax.set_ylabel('Loss')\n",
    "ax.grid(which='major', axis='y', linestyle='--')\n",
    "\n",
    "predictions = model.predict(trainX)\n",
    "\n",
    "for i, label in enumerate(labels):\n",
    "    ax = main_ax[1+i]\n",
    "    prediction = predictions[:,i].flatten()\n",
    "    true_value = trainY[:,i].flatten()\n",
    "    gs.validation_plot(prediction, true_value, grid=True, ax=ax)\n",
    "    ax.set_xlabel('Prediction')\n",
    "    ax.set_ylabel('True')\n",
    "    ax.set_title('{}'.format(label))\n",
    "    ax.set_xlim([0,0.5]); ax.set_ylim([0,0.5])"
   ]
  },
  {
   "cell_type": "markdown",
   "metadata": {},
   "source": [
    "### Bivariate check (MLP VS Training)"
   ]
  },
  {
   "cell_type": "code",
   "execution_count": null,
   "metadata": {
    "ExecuteTime": {
     "end_time": "2022-10-30T04:18:01.190933Z",
     "start_time": "2022-10-30T04:18:00.990944Z"
    }
   },
   "outputs": [],
   "source": [
    "cmap = 'RdYlGn_r'"
   ]
  },
  {
   "cell_type": "code",
   "execution_count": null,
   "metadata": {
    "ExecuteTime": {
     "end_time": "2022-10-30T04:18:13.586402Z",
     "start_time": "2022-10-30T04:18:01.191903Z"
    }
   },
   "outputs": [],
   "source": [
    "fig, axes = plt.subplots(2,2, figsize= (12,10))\n",
    "\n",
    "axes = axes.flatten()\n",
    "\n",
    "gs.scatter_plot(data_lambda['Lambda3'], data_lambda['Lambda4'], xlim=[0,0.5], ylim=[0,0.5], stat_blk=False,\n",
    "                title='Training Skeness',c= data_lambda['Skewness'].values, ax=axes[0], \n",
    "                xlabel=r'$\\lambda_3$', ylabel=r'$\\lambda_4$', cbar=True, cmap=cmap)\n",
    "axes[0].contour(data_lambda['Lambda3'].values.reshape(n_mesh_lambda,n_mesh_lambda),\n",
    "               data_lambda['Lambda4'].values.reshape(n_mesh_lambda,n_mesh_lambda),\n",
    "               data_lambda['Skewness'].values.reshape(n_mesh_lambda,n_mesh_lambda), cmap=cmap, lw =0.5)\n",
    "\n",
    "gs.scatter_plot(data_lambda['Lambda3'], data_lambda['Lambda4'], xlim=[0,0.5], ylim=[0,0.5],\n",
    "                stat_blk=False, title='Training Kurtosis',c= data_lambda['Kurtosis'].values, ax=axes[1], \n",
    "                xlabel=r'$\\lambda_3$', ylabel=r'$\\lambda_4$', cbar=True, cmap=cmap)\n",
    "axes[1].contour(data_lambda['Lambda3'].values.reshape(n_mesh_lambda,n_mesh_lambda),\n",
    "               data_lambda['Lambda4'].values.reshape(n_mesh_lambda,n_mesh_lambda),\n",
    "               data_lambda['Kurtosis'].values.reshape(n_mesh_lambda,n_mesh_lambda), cmap=cmap, lw =0.5)\n",
    "\n",
    "\n",
    "for i, label in enumerate(features):\n",
    "    prediction = predictions[:,i].flatten()\n",
    "    gs.scatter_plot(predictions[:,0], predictions[:,1], c= trainX[:,i], xlim=[0,0.5], ylim=[0,0.5],\n",
    "                    stat_blk=False, title='MLP {}'.format(label),ax=axes[i+2],\n",
    "                    xlabel=r'$\\lambda_3$', ylabel=r'$\\lambda_4$', cbar=True, cmap=cmap)\n",
    "    \n",
    "    axes[i+2].contour(predictions[:,0].reshape(n_mesh_lambda,n_mesh_lambda),\n",
    "                       predictions[:,1].reshape(n_mesh_lambda,n_mesh_lambda),\n",
    "                       trainX[:,i].reshape(n_mesh_lambda,n_mesh_lambda), cmap=cmap, lw =0.5)\n",
    "    \n",
    "    \n",
    "\n",
    "plt.tight_layout(h_pad=2.0, w_pad=3)"
   ]
  },
  {
   "cell_type": "code",
   "execution_count": null,
   "metadata": {
    "ExecuteTime": {
     "end_time": "2022-10-30T04:18:58.252544Z",
     "start_time": "2022-10-30T04:18:13.587404Z"
    }
   },
   "outputs": [],
   "source": [
    "fig, axes = plt.subplots(2, 2, figsize=(12, 10))\n",
    "\n",
    "axes = axes.flatten()\n",
    "\n",
    "gs.scatter_plot(\n",
    "    data_lambda[\"Skewness\"],\n",
    "    data_lambda[\"Kurtosis\"],\n",
    "    stat_blk=False,\n",
    "    title=r\"$Training\\;\\lambda_3$\",\n",
    "    c=data_lambda[\"Lambda3\"].values,\n",
    "    ax=axes[0],\n",
    "    xlabel=r\"Skewness\",\n",
    "    ylabel=r\"Kurosis\",\n",
    "    cbar=True,\n",
    "    cmap=cmap,\n",
    ")\n",
    "axes[0].contour(\n",
    "    data_lambda[\"Skewness\"].values.reshape(n_mesh_lambda, n_mesh_lambda),\n",
    "    data_lambda[\"Kurtosis\"].values.reshape(n_mesh_lambda, n_mesh_lambda),\n",
    "    data_lambda[\"Lambda3\"].values.reshape(n_mesh_lambda, n_mesh_lambda),\n",
    "    cmap=cmap,\n",
    "    lw=0.5,\n",
    ")\n",
    "\n",
    "gs.scatter_plot(\n",
    "    data_lambda[\"Skewness\"],\n",
    "    data_lambda[\"Kurtosis\"],\n",
    "    stat_blk=False,\n",
    "    title=r\"$Training\\; \\lambda_4$\",\n",
    "    c=data_lambda[\"Lambda4\"].values,\n",
    "    ax=axes[1],\n",
    "    xlabel=r\"Skewness\",\n",
    "    ylabel=r\"Kurosis\",\n",
    "    cbar=True,\n",
    "    cmap=cmap,\n",
    ")\n",
    "axes[1].contour(\n",
    "    data_lambda[\"Skewness\"].values.reshape(n_mesh_lambda, n_mesh_lambda),\n",
    "    data_lambda[\"Kurtosis\"].values.reshape(n_mesh_lambda, n_mesh_lambda),\n",
    "    data_lambda[\"Lambda4\"].values.reshape(n_mesh_lambda, n_mesh_lambda),\n",
    "    cmap=cmap,\n",
    "    lw=0.5,\n",
    ")\n",
    "\n",
    "\n",
    "for i, label in enumerate([\"lambda_3\", \"lambda_4\"]):\n",
    "    prediction = predictions[:, i].flatten()\n",
    "    gs.scatter_plot(\n",
    "        trainX[:, 0],\n",
    "        trainX[:, 1],\n",
    "        c=predictions[:, i],\n",
    "        stat_blk=False,\n",
    "        title=r\"$MLP\\; \\{}$\".format(label),\n",
    "        ax=axes[i + 2],\n",
    "        xlabel=r\"Skewness\",\n",
    "        ylabel=r\"Kurtosis\",\n",
    "        cbar=True,\n",
    "        cmap=cmap,\n",
    "    )\n",
    "\n",
    "    axes[i + 2].contour(\n",
    "        trainX[:, 0].reshape(n_mesh_lambda, n_mesh_lambda),\n",
    "        trainX[:, 1].reshape(n_mesh_lambda, n_mesh_lambda),\n",
    "        predictions[:, i].reshape(n_mesh_lambda, n_mesh_lambda),\n",
    "        cmap=cmap,\n",
    "        lw=0.5,\n",
    "    )\n",
    "\n",
    "plt.tight_layout(h_pad=2.0, w_pad=7)\n",
    "save_figure_paper(\"LambdaMlpTraining.png\")"
   ]
  },
  {
   "cell_type": "markdown",
   "metadata": {},
   "source": [
    "# Tests"
   ]
  },
  {
   "cell_type": "code",
   "execution_count": null,
   "metadata": {
    "ExecuteTime": {
     "end_time": "2022-10-30T04:18:58.453981Z",
     "start_time": "2022-10-30T04:18:58.253483Z"
    }
   },
   "outputs": [],
   "source": [
    "from utility import get_lambdas_keras\n",
    "from lambda_distribution import GeneralizedLambdaDist"
   ]
  },
  {
   "cell_type": "code",
   "execution_count": null,
   "metadata": {
    "ExecuteTime": {
     "end_time": "2022-10-30T04:19:01.056628Z",
     "start_time": "2022-10-30T04:18:58.456482Z"
    }
   },
   "outputs": [],
   "source": [
    "import unittest\n",
    "\n",
    "class TestLambda(unittest.TestCase):\n",
    "    \n",
    "    def test_lambda_fit(self):\n",
    "        input_set = [0,1,0,3]\n",
    "        output_set = self.lambda_fit(input_set = input_set)\n",
    "        assert np.isclose(np.array(input_set), np.array([output_set]), 0, atol=0.1).all()\n",
    "        \n",
    "    def lambda_fit(self, input_set):\n",
    "        gld = GeneralizedLambdaDist(*get_lambdas_keras(*input_set,model))\n",
    "        gld.dist_plot(n_sample=1000000)\n",
    "        return gld.get_moments()\n",
    "\n",
    "unittest.main(argv=[''], verbosity=2, exit=False)"
   ]
  },
  {
   "cell_type": "markdown",
   "metadata": {},
   "source": [
    "# Exports"
   ]
  },
  {
   "cell_type": "code",
   "execution_count": null,
   "metadata": {
    "ExecuteTime": {
     "end_time": "2022-10-30T04:19:01.830439Z",
     "start_time": "2022-10-30T04:19:01.058122Z"
    }
   },
   "outputs": [],
   "source": [
    "# class_name = 'I'\n",
    "model.save(outdir+f'Lambda_{class_name}_Keras')"
   ]
  }
 ],
 "metadata": {
  "kernelspec": {
   "display_name": "Python 3",
   "language": "python",
   "name": "python3"
  },
  "language_info": {
   "codemirror_mode": {
    "name": "ipython",
    "version": 3
   },
   "file_extension": ".py",
   "mimetype": "text/x-python",
   "name": "python",
   "nbconvert_exporter": "python",
   "pygments_lexer": "ipython3",
   "version": "3.7.7"
  },
  "toc": {
   "base_numbering": 1,
   "nav_menu": {},
   "number_sections": true,
   "sideBar": true,
   "skip_h1_title": false,
   "title_cell": "Table of Contents",
   "title_sidebar": "Contents",
   "toc_cell": false,
   "toc_position": {
    "height": "857.6px",
    "left": "163px",
    "top": "110px",
    "width": "175.5px"
   },
   "toc_section_display": true,
   "toc_window_display": true
  }
 },
 "nbformat": 4,
 "nbformat_minor": 2
}
