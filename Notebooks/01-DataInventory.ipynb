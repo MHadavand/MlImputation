{
 "cells": [
  {
   "cell_type": "code",
   "execution_count": null,
   "metadata": {
    "ExecuteTime": {
     "end_time": "2022-10-19T03:15:40.539150Z",
     "start_time": "2022-10-19T03:15:39.321543Z"
    }
   },
   "outputs": [],
   "source": [
    "import rmsp\n",
    "import sys\n",
    "import os\n",
    "import pandas as pd\n",
    "import warnings\n",
    "warnings.filterwarnings(\"ignore\")\n",
    "from matplotlib import pyplot as plt\n",
    "import numpy as np\n",
    "import math\n",
    "import shutil\n",
    "import copy\n",
    "import pygeostat as gs\n",
    "from tqdm.notebook import trange\n",
    "%load_ext autoreload\n",
    "%autoreload 2"
   ]
  },
  {
   "cell_type": "code",
   "execution_count": null,
   "metadata": {
    "ExecuteTime": {
     "end_time": "2022-10-19T03:15:40.632151Z",
     "start_time": "2022-10-19T03:15:40.540150Z"
    }
   },
   "outputs": [],
   "source": [
    "rmsp.activate()"
   ]
  },
  {
   "cell_type": "code",
   "execution_count": null,
   "metadata": {
    "ExecuteTime": {
     "end_time": "2022-10-19T03:15:41.112649Z",
     "start_time": "2022-10-19T03:15:40.633150Z"
    }
   },
   "outputs": [],
   "source": [
    "sys.path.insert(0, os.path.abspath('../Tools'))\n",
    "from file_export import PickleExporter, FigureExporter, TableExporter\n",
    "from utility import create_axes"
   ]
  },
  {
   "cell_type": "markdown",
   "metadata": {},
   "source": [
    "# Introduction\n",
    "\n",
    "This notebook contains workflow to get the data inventory for lateritic Nickel deposit data set\n"
   ]
  },
  {
   "cell_type": "markdown",
   "metadata": {},
   "source": [
    "# Settings"
   ]
  },
  {
   "cell_type": "code",
   "execution_count": null,
   "metadata": {
    "ExecuteTime": {
     "end_time": "2022-10-19T03:15:41.205649Z",
     "start_time": "2022-10-19T03:15:41.113650Z"
    }
   },
   "outputs": [],
   "source": [
    "outdir = 'Output/DataInventory/'\n",
    "gs.mkdir(outdir)\n",
    "\n",
    "# NWTData.7z can be downloaded from the google drive under CCG folder\n",
    "inputdir = './data/'\n",
    "\n",
    "gs.Parameters['data.tmin'] = -998\n",
    "gs.Parameters['data.null'] = -999"
   ]
  },
  {
   "cell_type": "code",
   "execution_count": null,
   "metadata": {
    "ExecuteTime": {
     "end_time": "2022-10-19T03:15:41.298649Z",
     "start_time": "2022-10-19T03:15:41.206650Z"
    }
   },
   "outputs": [],
   "source": [
    "pickle_data = PickleExporter(outdir)\n",
    "save_figure = FigureExporter(outdir)\n",
    "save_table = TableExporter(outdir)\n",
    "save_figure_paper = FigureExporter(\n",
    "    \"../../JournalPapers/ImputationUsingLambdaDistAndMl/Latex/elsarticle-template/Figures_Ni/\"\n",
    ")\n",
    "save_table_paper = TableExporter(\n",
    "    \"../../JournalPapers/ImputationUsingLambdaDistAndMl/Latex/elsarticle-template/Tables_Ni/\"\n",
    ")"
   ]
  },
  {
   "cell_type": "markdown",
   "metadata": {},
   "source": [
    "# Data Exploration\n",
    "\n",
    "There are three types of data collection: Water, Stream and HMC that have different scale and accuracy. In this section the overlap between different data sources is studied."
   ]
  },
  {
   "cell_type": "code",
   "execution_count": null,
   "metadata": {
    "ExecuteTime": {
     "end_time": "2022-10-19T03:15:41.608649Z",
     "start_time": "2022-10-19T03:15:41.299651Z"
    }
   },
   "outputs": [],
   "source": [
    "data_input = rmsp.read_gslib(inputdir+'original.dat')\n",
    "data_input = rmsp.PointData(data_input, x='X', y='Y', z='Depth', dhid = 'Bore Hole ID')\n",
    "data_input = data_input.astype({\"Rocktype\":int})\n",
    "data_input"
   ]
  },
  {
   "cell_type": "code",
   "execution_count": null,
   "metadata": {
    "ExecuteTime": {
     "end_time": "2022-10-19T03:15:41.996010Z",
     "start_time": "2022-10-19T03:15:41.610150Z"
    }
   },
   "outputs": [],
   "source": [
    "p =rmsp.Proportion(data_input['Rocktype'])\n",
    "p.barplot(plot_count='True', ylim=(0,0.45))"
   ]
  },
  {
   "cell_type": "code",
   "execution_count": null,
   "metadata": {
    "ExecuteTime": {
     "end_time": "2022-10-19T03:15:42.104510Z",
     "start_time": "2022-10-19T03:15:41.997511Z"
    }
   },
   "outputs": [],
   "source": [
    "data_input = data_input[data_input['Rocktype']==4]\n",
    "data_input"
   ]
  },
  {
   "cell_type": "markdown",
   "metadata": {},
   "source": [
    "# Missing Mechanism"
   ]
  },
  {
   "cell_type": "code",
   "execution_count": null,
   "metadata": {
    "ExecuteTime": {
     "end_time": "2022-10-19T03:15:42.213010Z",
     "start_time": "2022-10-19T03:15:42.105510Z"
    }
   },
   "outputs": [],
   "source": [
    "data_export = data_input.copy()\n",
    "\n",
    "meta = data_input.get_meta(ret_exists=True)\n",
    "meta = meta[meta['Exists']=='True']\n",
    "meta = meta['Value'].values.tolist()\n",
    "\n",
    "response_variables = ['Ni']\n",
    "missing_variables = ['Fe', 'SiO2']\n",
    "variables = response_variables+missing_variables\n",
    "data_export = data_export[meta+variables]\n",
    "data_export.describe()"
   ]
  },
  {
   "cell_type": "markdown",
   "metadata": {},
   "source": [
    "##  Missing at Random\n",
    "\n",
    "Samples are missing based on the important variables that have been sampled."
   ]
  },
  {
   "cell_type": "code",
   "execution_count": null,
   "metadata": {
    "ExecuteTime": {
     "end_time": "2022-10-19T03:15:42.306010Z",
     "start_time": "2022-10-19T03:15:42.214010Z"
    }
   },
   "outputs": [],
   "source": [
    "np.random.seed(69067)"
   ]
  },
  {
   "cell_type": "markdown",
   "metadata": {},
   "source": [
    "### Missing Dependent"
   ]
  },
  {
   "cell_type": "code",
   "execution_count": null,
   "metadata": {
    "ExecuteTime": {
     "end_time": "2022-10-19T03:15:42.414509Z",
     "start_time": "2022-10-19T03:15:42.307011Z"
    }
   },
   "outputs": [],
   "source": [
    "idx = data_export[data_export['Ni']<np.median(data_export['Ni'])].index\n",
    "idx_removed_sio2 = np.random.choice(idx, size=int(len(idx)/4), replace=False)\n",
    "idx_removed_fe = np.random.choice(idx_removed_sio2, size=int(len(idx)/6), replace=False)\n",
    "\n",
    "data_export.loc[idx_removed_fe, 'Fe'] = np.nan\n",
    "data_export.loc[idx_removed_sio2, 'SiO2'] = np.nan\n",
    "\n",
    "\n",
    "idx = data_export[data_export['Ni']>np.median(data_export['Ni'])].index\n",
    "idx_removed_sio2 = np.random.choice(idx, size=int(len(idx)/8), replace=False)\n",
    "idx_removed_fe = np.random.choice(idx_removed_sio2, size=int(len(idx)/12), replace=False)\n",
    "\n",
    "data_export.loc[idx_removed_fe, 'Fe'] = np.nan\n",
    "data_export.loc[idx_removed_sio2, 'SiO2'] = np.nan"
   ]
  },
  {
   "cell_type": "markdown",
   "metadata": {},
   "source": [
    "### Missing Independent"
   ]
  },
  {
   "cell_type": "code",
   "execution_count": null,
   "metadata": {
    "ExecuteTime": {
     "end_time": "2022-10-19T03:15:42.507510Z",
     "start_time": "2022-10-19T03:15:42.415509Z"
    }
   },
   "outputs": [],
   "source": [
    "# # missingness for Fe\n",
    "# print('Removing samples below median (1/6)')\n",
    "# idx = data_export[data_export['Ni']<np.median(data_export['Ni'])].index\n",
    "# idx_removed = np.random.choice(idx, size=int(len(idx)/6), replace=False)\n",
    "# print(f'Total subset {len(idx)}. Remove number {len(idx_removed)}. Fraction {len(idx_removed)/len(idx):.2f}')\n",
    "# data_export.loc[idx_removed, 'Fe'] = np.nan\n",
    "\n",
    "# print('Removing samples above median (1/12)')\n",
    "# idx = data_export[data_export['Ni']>np.median(data_export['Ni'])].index\n",
    "# idx_removed = np.random.choice(idx, size=int(len(idx)/12), replace=False)\n",
    "# print(f'Total subset {len(idx)}. Remove number {len(idx_removed)}. Fraction {len(idx_removed)/len(idx):.2f}')\n",
    "# data_export.loc[idx_removed, 'Fe'] = np.nan\n",
    "\n",
    "\n",
    "# already_missing = data_export[data_export['Fe'].isna()].index\n",
    "\n",
    "# # missingness for SiO2\n",
    "# print('Removing samples below median (1/4)')\n",
    "# idx = data_export[data_export['Ni']<np.median(data_export['Ni'])].index\n",
    "# idx_removed = np.random.choice(idx, size=int(len(idx)/4), replace=False)\n",
    "# print(f'Total subset {len(idx)}. Remove number {len(idx_removed)}. Fraction {len(idx_removed)/len(idx):.2f}')\n",
    "# data_export.loc[idx_removed, 'SiO2'] = np.nan\n",
    "\n",
    "# print('Removing samples above median (1/8)')\n",
    "# idx = data_export[data_export['Ni']>np.median(data_export['Ni'])].index\n",
    "# idx_removed = np.random.choice(idx, size=int(len(idx)/8), replace=False)\n",
    "# print(f'Total subset {len(idx)}. Remove number {len(idx_removed)}. Fraction {len(idx_removed)/len(idx):.2f}')\n",
    "# data_export.loc[idx_removed, 'SiO2'] = np.nan"
   ]
  },
  {
   "cell_type": "code",
   "execution_count": null,
   "metadata": {
    "ExecuteTime": {
     "end_time": "2022-10-19T03:15:42.616010Z",
     "start_time": "2022-10-19T03:15:42.508511Z"
    }
   },
   "outputs": [],
   "source": [
    "data_export.describe()"
   ]
  },
  {
   "cell_type": "code",
   "execution_count": null,
   "metadata": {
    "ExecuteTime": {
     "end_time": "2022-10-19T03:15:42.972580Z",
     "start_time": "2022-10-19T03:15:42.617010Z"
    },
    "scrolled": false
   },
   "outputs": [],
   "source": [
    "fig, ax = plt.subplots(1, 1, figsize=(9, 11))\n",
    "\n",
    "gs.PlotStyle.update_mplrcParams()\n",
    "\n",
    "data_homotopic = data_export[~data_export.isnull().apply(lambda x: any(x), axis=1)]\n",
    "data_heterotopic = data_export[data_export.isnull().apply(lambda x: any(x), axis=1)]\n",
    "\n",
    "ax.scatter(\n",
    "    data_homotopic.X,\n",
    "    data_homotopic.Y,\n",
    "    facecolor=\"gray\",\n",
    "    edgecolor=\"black\",\n",
    "    s=20,\n",
    "    lw=0.8,\n",
    "    label=\"Homotopic (%i)\" % (len(data_homotopic)),\n",
    ")\n",
    "\n",
    "ax.scatter(\n",
    "    data_heterotopic.X,\n",
    "    data_heterotopic.Y,\n",
    "    facecolor=\"orange\",\n",
    "    s=12,\n",
    "    label=\"Heterotopic (%i)\" % (len(data_heterotopic)),\n",
    ")\n",
    "ax.set_aspect(\"equal\")\n",
    "ax.grid()\n",
    "legend = ax.legend(fontsize=12, markerscale=2)\n",
    "\n",
    "\n",
    "ax.set_xlabel(\"Easting (m)\", fontsize=None), ax.set_ylabel(\n",
    "    \"Northing (m)\", fontsize=None\n",
    ")\n",
    "_ = ax.set_title(\"Location Map for pooled data set\", fontsize=14)\n",
    "\n",
    "# save_figure_paper(\"CSlocmap1.png\")"
   ]
  },
  {
   "cell_type": "code",
   "execution_count": null,
   "metadata": {
    "ExecuteTime": {
     "end_time": "2022-10-19T04:01:41.679961Z",
     "start_time": "2022-10-19T04:01:40.663496Z"
    }
   },
   "outputs": [],
   "source": [
    "from matplotlib_scalebar.scalebar import ScaleBar\n",
    "\n",
    "rmsp.GlobalParams[\"core.enable_beta\"] = True\n",
    "viewer = data_homotopic.view3d(color=\"#808080\", label=\"Homotopic\")\n",
    "viewer._global_settings[\"scale\"] = [1, 1, 5]\n",
    "viewer._global_settings[\"background\"] = \"#FFFFFF\"\n",
    "data_heterotopic.view3d(color=\"#FFA500\", label=\"Heterotopic\", viewer=viewer)\n",
    "viewer.set_camera(view_matrix=[716886.56,329709.00,225.62,714097.21,330912.07,-436.74,-0.22,0.04,0.98], orthographic=False)\n",
    "fig, ax = viewer.show_static(\n",
    "    dpi=200, crop_y=(15, 15), figsize=(8,4)\n",
    ")\n",
    "ax.legend()\n",
    "\n",
    "data_vtk = data_export.copy()\n",
    "data_vtk['Flag'] = 'Homotopic'\n",
    "data_vtk.loc[data_vtk.isna().any(axis=1), 'Flag'] = 'Heterotopic'\n",
    "\n",
    "data_vtk.to_vtk('data.vtp', categorical_to_code=False)\n",
    "save_figure_paper('3DviewHomHetero.png')"
   ]
  },
  {
   "cell_type": "markdown",
   "metadata": {},
   "source": [
    "## Duplicate check"
   ]
  },
  {
   "cell_type": "code",
   "execution_count": null,
   "metadata": {
    "ExecuteTime": {
     "end_time": "2022-10-19T03:15:49.843530Z",
     "start_time": "2022-10-19T03:15:49.658532Z"
    }
   },
   "outputs": [],
   "source": [
    "data_export, dups = rmsp.remove_duplicates(data_export, progressbar=True)\n",
    "\n",
    "if len(dups) > 0:\n",
    "    print(dups)"
   ]
  },
  {
   "cell_type": "code",
   "execution_count": null,
   "metadata": {
    "ExecuteTime": {
     "end_time": "2022-10-19T03:15:50.510031Z",
     "start_time": "2022-10-19T03:15:49.844531Z"
    },
    "scrolled": false
   },
   "outputs": [],
   "source": [
    "import matplotlib.gridspec as gridspec\n",
    "import matplotlib.pyplot as plt\n",
    "\n",
    "n_var = len(variables)\n",
    "fig, axes = create_axes(2, n_var, (12, 6))\n",
    "\n",
    "for i, variable in enumerate(response_variables + missing_variables):\n",
    "    data_export.cdfplot(variable, ax=axes[i], log=True)"
   ]
  },
  {
   "cell_type": "code",
   "execution_count": null,
   "metadata": {
    "ExecuteTime": {
     "end_time": "2022-10-19T03:15:51.625779Z",
     "start_time": "2022-10-19T03:15:50.511031Z"
    }
   },
   "outputs": [],
   "source": [
    "_ = data_export.scatplots(variables)"
   ]
  },
  {
   "cell_type": "code",
   "execution_count": null,
   "metadata": {
    "ExecuteTime": {
     "end_time": "2022-10-19T03:15:51.749778Z",
     "start_time": "2022-10-19T03:15:51.626778Z"
    }
   },
   "outputs": [],
   "source": [
    "all_vars = response_variables + missing_variables\n",
    "table_summary = pd.DataFrame(\n",
    "    index=all_vars, columns=[\"Number of Samples\", \"Number Missing\", \"% Missing\"]\n",
    ")\n",
    "\n",
    "for var in all_vars:\n",
    "    table_summary.loc[var, \"Number of Samples\"] = sum(data_export[var].notna())\n",
    "    table_summary.loc[var, \"Number Missing\"] = sum(data_export[var].isna())\n",
    "    table_summary.loc[var, \"% Missing\"] = (\n",
    "        100 * sum(data_export[var].isna()) / len(data_export)\n",
    "    )\n",
    "\n",
    "table_summary = table_summary.T\n",
    "table_summary.index.set_names('Variable', inplace=True)\n",
    "style = table_summary.T.style.format(precision=1, thousands=\",\")\n",
    "save_table_paper(style, 'sample_stats.tex', enforce_escape=True, longtable=True, hrules=True)\n",
    "style"
   ]
  },
  {
   "cell_type": "markdown",
   "metadata": {},
   "source": [
    "# Export"
   ]
  },
  {
   "cell_type": "code",
   "execution_count": null,
   "metadata": {
    "ExecuteTime": {
     "end_time": "2022-10-19T03:15:51.858181Z",
     "start_time": "2022-10-19T03:15:51.750778Z"
    }
   },
   "outputs": [],
   "source": [
    "pickle_data(data_export, 'PooledData.pkl')\n",
    "data_input = data_input.reset_index(drop=True)\n",
    "pickle_data(data_input, 'AllData.pkl')\n",
    "pickle_data(response_variables, 'response_variables.pkl')\n",
    "pickle_data(missing_variables, 'missing_variables.pkl')"
   ]
  }
 ],
 "metadata": {
  "kernelspec": {
   "display_name": "Python 3",
   "language": "python",
   "name": "python3"
  },
  "language_info": {
   "codemirror_mode": {
    "name": "ipython",
    "version": 3
   },
   "file_extension": ".py",
   "mimetype": "text/x-python",
   "name": "python",
   "nbconvert_exporter": "python",
   "pygments_lexer": "ipython3",
   "version": "3.7.7"
  },
  "toc": {
   "base_numbering": 1,
   "nav_menu": {},
   "number_sections": true,
   "sideBar": true,
   "skip_h1_title": false,
   "title_cell": "Table of Contents",
   "title_sidebar": "Contents",
   "toc_cell": false,
   "toc_position": {
    "height": "857.6px",
    "left": "163px",
    "top": "110px",
    "width": "200.462px"
   },
   "toc_section_display": true,
   "toc_window_display": true
  }
 },
 "nbformat": 4,
 "nbformat_minor": 2
}
